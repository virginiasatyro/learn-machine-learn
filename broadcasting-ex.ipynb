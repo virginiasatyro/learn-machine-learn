{
 "cells": [
  {
   "cell_type": "markdown",
   "metadata": {},
   "source": [
    "# Broadcasting in Python\n",
    "\n",
    "- row 1: carbs\n",
    "- row 2: protein\n",
    "- row 3: fat\n",
    "- column 1: apples\n",
    "- column 2: beef\n",
    "- column 3: eggs\n",
    "- column 4: potatoes"
   ]
  },
  {
   "cell_type": "code",
   "execution_count": 28,
   "metadata": {},
   "outputs": [
    {
     "name": "stdout",
     "output_type": "stream",
     "text": [
      "[[ 56.    0.    4.4  68. ]\n",
      " [  1.2 104.   52.    8. ]\n",
      " [  1.8 135.   99.    0.9]]\n"
     ]
    }
   ],
   "source": [
    "import numpy as np\n",
    "\n",
    "A = np.array([[56.0, 0.0, 4.4, 68.0],\n",
    "              [1.2, 104.0, 52.0, 8.0],\n",
    "              [1.8, 135.0, 99.0, 0.9]])\n",
    "\n",
    "print(A)"
   ]
  },
  {
   "cell_type": "markdown",
   "metadata": {},
   "source": [
    "Number of calories per row:"
   ]
  },
  {
   "cell_type": "code",
   "execution_count": 29,
   "metadata": {},
   "outputs": [
    {
     "name": "stdout",
     "output_type": "stream",
     "text": [
      "[ 59.  239.  155.4  76.9]\n"
     ]
    }
   ],
   "source": [
    "cal = A.sum(axis=0)\n",
    "print(cal)"
   ]
  },
  {
   "cell_type": "markdown",
   "metadata": {},
   "source": [
    "Porcentagem de calorias por coluna:"
   ]
  },
  {
   "cell_type": "code",
   "execution_count": 30,
   "metadata": {},
   "outputs": [
    {
     "name": "stdout",
     "output_type": "stream",
     "text": [
      "[[94.91525424  0.          2.83140283 88.42652796]\n",
      " [ 2.03389831 43.51464435 33.46203346 10.40312094]\n",
      " [ 3.05084746 56.48535565 63.70656371  1.17035111]]\n"
     ]
    }
   ],
   "source": [
    "percentage = 100*A/cal.reshape(1, 4) # broadcasting \n",
    "print(percentage)"
   ]
  },
  {
   "cell_type": "markdown",
   "metadata": {},
   "source": [
    "Reshape - an example of Python broadcasting where you take a matrix A (3x4) and divide it by (1x4) matrix. Command reshape is not actualy needed, cal is already (1x4).\n",
    "\n",
    "If you a using Python matrices and you're not quite sure the dimensions of the matrix, you can call the reshape command just to make sure, the cost is very low."
   ]
  },
  {
   "cell_type": "markdown",
   "metadata": {},
   "source": [
    "Suppose img is a (32,32,3) array, representing a 32x32 image with 3 color channels red, green and blue. How do you reshape this into a column vector?"
   ]
  },
  {
   "cell_type": "code",
   "execution_count": 31,
   "metadata": {},
   "outputs": [
    {
     "name": "stdout",
     "output_type": "stream",
     "text": [
      "[[[-0.71923583  0.15349492  1.87243323]\n",
      "  [ 0.11188588 -0.22357783 -0.16984956]\n",
      "  [-0.3591245  -0.08067499 -0.76119448]\n",
      "  ...\n",
      "  [ 0.15475632 -0.66979333  0.41805871]\n",
      "  [ 0.65567845  0.2540736   0.46782401]\n",
      "  [-1.61132892 -1.23933449 -1.09043136]]\n",
      "\n",
      " [[-0.55234702 -2.08790222 -0.39264267]\n",
      "  [ 1.36881741 -1.42701271 -1.57868982]\n",
      "  [-0.53769402  0.45031573  0.24709644]\n",
      "  ...\n",
      "  [-0.02303319  0.67422538 -0.1793131 ]\n",
      "  [ 0.3646837  -2.19347837 -1.97547216]\n",
      "  [ 0.36342695  0.47599507  0.83096549]]\n",
      "\n",
      " [[-1.25516445 -1.11016717  1.84384451]\n",
      "  [ 0.10053026 -0.88714292 -0.45713427]\n",
      "  [ 0.45608219  1.80472597 -1.4124258 ]\n",
      "  ...\n",
      "  [-0.82007548 -1.207692   -0.77996581]\n",
      "  [ 0.59678068 -0.9181804  -1.04861312]\n",
      "  [ 0.80850279  1.36612446 -0.69326416]]\n",
      "\n",
      " ...\n",
      "\n",
      " [[-0.43112878 -1.05494622 -0.13392678]\n",
      "  [-1.06328053 -2.52033623  0.45099696]\n",
      "  [ 0.61083232 -1.08132487  1.25340171]\n",
      "  ...\n",
      "  [ 0.99316821 -0.36729682 -1.42806953]\n",
      "  [-1.21785707 -1.66703795 -0.75001961]\n",
      "  [-0.17166259 -0.39346843  0.8207928 ]]\n",
      "\n",
      " [[-0.80222314  0.80406391  0.75319245]\n",
      "  [-1.03848987  1.12222789 -0.80173664]\n",
      "  [ 1.96472028  0.02436085 -0.98574384]\n",
      "  ...\n",
      "  [-0.12450067  0.32338177 -0.26785489]\n",
      "  [ 1.078246    0.00273919  0.42792948]\n",
      "  [ 0.62418106  0.51735794 -0.91925073]]\n",
      "\n",
      " [[-1.24960759 -1.72449996  0.82480032]\n",
      "  [ 1.12515674 -0.66572231  0.27048845]\n",
      "  [ 1.11072511 -0.66852524 -0.03668565]\n",
      "  ...\n",
      "  [-1.05214374  0.0241929   0.67488332]\n",
      "  [ 0.4598567   1.02360716  0.5395436 ]\n",
      "  [ 0.07140097  0.26419938  0.36055311]]]\n",
      "[[-0.71923583]\n",
      " [ 0.15349492]\n",
      " [ 1.87243323]\n",
      " ...\n",
      " [ 0.07140097]\n",
      " [ 0.26419938]\n",
      " [ 0.36055311]]\n"
     ]
    }
   ],
   "source": [
    "img = np.random.randn(32, 32, 3)\n",
    "x = img.reshape(32*32*3, 1)\n",
    "print(img)\n",
    "print(x)"
   ]
  },
  {
   "cell_type": "markdown",
   "metadata": {},
   "source": [
    "Shape:"
   ]
  },
  {
   "cell_type": "code",
   "execution_count": 32,
   "metadata": {},
   "outputs": [
    {
     "name": "stdout",
     "output_type": "stream",
     "text": [
      "(2, 3)\n"
     ]
    }
   ],
   "source": [
    "a = np.random.randn(2, 3) # a.shape = (2, 3)\n",
    "b = np.random.randn(2, 1) # b.shape = (2, 1)\n",
    "c = a + b\n",
    "print(c.shape)"
   ]
  },
  {
   "cell_type": "markdown",
   "metadata": {},
   "source": [
    "Shape: "
   ]
  },
  {
   "cell_type": "code",
   "execution_count": 33,
   "metadata": {},
   "outputs": [
    {
     "ename": "ValueError",
     "evalue": "operands could not be broadcast together with shapes (4,3) (3,2) ",
     "output_type": "error",
     "traceback": [
      "\u001b[0;31m---------------------------------------------------------------------------\u001b[0m",
      "\u001b[0;31mValueError\u001b[0m                                Traceback (most recent call last)",
      "\u001b[0;32m<ipython-input-33-14309362f61b>\u001b[0m in \u001b[0;36m<module>\u001b[0;34m\u001b[0m\n\u001b[1;32m      1\u001b[0m \u001b[0ma\u001b[0m \u001b[0;34m=\u001b[0m \u001b[0mnp\u001b[0m\u001b[0;34m.\u001b[0m\u001b[0mrandom\u001b[0m\u001b[0;34m.\u001b[0m\u001b[0mrandn\u001b[0m\u001b[0;34m(\u001b[0m\u001b[0;36m4\u001b[0m\u001b[0;34m,\u001b[0m \u001b[0;36m3\u001b[0m\u001b[0;34m)\u001b[0m \u001b[0;31m# a.shape = (4, 3)\u001b[0m\u001b[0;34m\u001b[0m\u001b[0;34m\u001b[0m\u001b[0m\n\u001b[1;32m      2\u001b[0m \u001b[0mb\u001b[0m \u001b[0;34m=\u001b[0m \u001b[0mnp\u001b[0m\u001b[0;34m.\u001b[0m\u001b[0mrandom\u001b[0m\u001b[0;34m.\u001b[0m\u001b[0mrandn\u001b[0m\u001b[0;34m(\u001b[0m\u001b[0;36m3\u001b[0m\u001b[0;34m,\u001b[0m \u001b[0;36m2\u001b[0m\u001b[0;34m)\u001b[0m \u001b[0;31m# b.shape = (3, 2)\u001b[0m\u001b[0;34m\u001b[0m\u001b[0;34m\u001b[0m\u001b[0m\n\u001b[0;32m----> 3\u001b[0;31m \u001b[0mc\u001b[0m \u001b[0;34m=\u001b[0m \u001b[0ma\u001b[0m\u001b[0;34m*\u001b[0m\u001b[0mb\u001b[0m\u001b[0;34m\u001b[0m\u001b[0;34m\u001b[0m\u001b[0m\n\u001b[0m\u001b[1;32m      4\u001b[0m \u001b[0mprint\u001b[0m\u001b[0;34m(\u001b[0m\u001b[0mc\u001b[0m\u001b[0;34m)\u001b[0m\u001b[0;34m\u001b[0m\u001b[0;34m\u001b[0m\u001b[0m\n",
      "\u001b[0;31mValueError\u001b[0m: operands could not be broadcast together with shapes (4,3) (3,2) "
     ]
    }
   ],
   "source": [
    "a = np.random.randn(4, 3) # a.shape = (4, 3)\n",
    "b = np.random.randn(3, 2) # b.shape = (3, 2)\n",
    "c = a*b\n",
    "print(c)"
   ]
  },
  {
   "cell_type": "markdown",
   "metadata": {},
   "source": [
    "Recall that \"np.dot(a,b)\" performs a matrix multiplication on a and b, whereas \"a*b\" performs an element-wise multiplication."
   ]
  },
  {
   "cell_type": "code",
   "execution_count": 34,
   "metadata": {},
   "outputs": [
    {
     "name": "stdout",
     "output_type": "stream",
     "text": [
      "(12288, 45)\n"
     ]
    }
   ],
   "source": [
    "a = np.random.randn(12288, 150) # a.shape = (12288, 150)\n",
    "b = np.random.randn(150, 45) # b.shape = (150, 45)\n",
    "c = np.dot(a,b)\n",
    "print(c.shape)"
   ]
  },
  {
   "cell_type": "markdown",
   "metadata": {},
   "source": [
    "Vectorization:"
   ]
  },
  {
   "cell_type": "code",
   "execution_count": 38,
   "metadata": {},
   "outputs": [
    {
     "name": "stdout",
     "output_type": "stream",
     "text": [
      "[[ 1.53144439  1.18194877 -2.54920313  0.81245935]\n",
      " [ 1.00526434  0.30543077  0.2851037  -0.99906665]\n",
      " [ 0.75689621  1.45849249 -1.73933409 -0.3889218 ]]\n",
      "(3, 4)\n"
     ]
    }
   ],
   "source": [
    "# a.shape = (3,4)\n",
    "# b.shape = (4,1)\n",
    "a = np.random.randn(3, 4)\n",
    "b = np.random.randn(4, 1)\n",
    "d = np.random.randn(3, 4)\n",
    "\n",
    "for i in range(3):\n",
    "  for j in range(4):\n",
    "    d[i][j] = a[i][j] + b[j]\n",
    "print(d)\n",
    "print(d.shape)"
   ]
  },
  {
   "cell_type": "code",
   "execution_count": 39,
   "metadata": {},
   "outputs": [
    {
     "name": "stdout",
     "output_type": "stream",
     "text": [
      "[[ 1.53144439  1.18194877 -2.54920313  0.81245935]\n",
      " [ 1.00526434  0.30543077  0.2851037  -0.99906665]\n",
      " [ 0.75689621  1.45849249 -1.73933409 -0.3889218 ]]\n",
      "(3, 4)\n"
     ]
    }
   ],
   "source": [
    "c = a + b.T # T = transposed\n",
    "print(c)\n",
    "print(c.shape)"
   ]
  },
  {
   "cell_type": "markdown",
   "metadata": {},
   "source": [
    "What the following do? (broadcasting)"
   ]
  },
  {
   "cell_type": "code",
   "execution_count": 40,
   "metadata": {},
   "outputs": [
    {
     "name": "stdout",
     "output_type": "stream",
     "text": [
      "[[ 2.35220568  0.20809817  0.20156893]\n",
      " [-0.8315542  -0.32233993 -0.19244965]\n",
      " [ 0.14289634 -0.13589182 -0.46404304]]\n",
      "(3, 3)\n"
     ]
    }
   ],
   "source": [
    "a = np.random.randn(3, 3)\n",
    "b = np.random.randn(3, 1)\n",
    "c = a*b\n",
    "print(c)\n",
    "print(c.shape)"
   ]
  }
 ],
 "metadata": {
  "kernelspec": {
   "display_name": "Python 3",
   "language": "python",
   "name": "python3"
  },
  "language_info": {
   "codemirror_mode": {
    "name": "ipython",
    "version": 3
   },
   "file_extension": ".py",
   "mimetype": "text/x-python",
   "name": "python",
   "nbconvert_exporter": "python",
   "pygments_lexer": "ipython3",
   "version": "3.8.5"
  }
 },
 "nbformat": 4,
 "nbformat_minor": 4
}
