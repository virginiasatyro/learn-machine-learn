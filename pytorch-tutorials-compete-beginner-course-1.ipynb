{
 "cells": [
  {
   "cell_type": "markdown",
   "metadata": {},
   "source": [
    "# PyTorch Tutorials - Complete Beginner Course\n",
    "\n",
    "- https://www.youtube.com/watch?v=EMXfZB8FVUA&list=PLqnslRFeH2UrcDBWF5mfPGpqQDSta6VK4&index=1\n",
    "\n",
    "By Python Engineer\n",
    "\n",
    "## Pytorch Tutorial 01 - Installation\n",
    "\n",
    "- https://pytorch.org/;\n",
    "- GPU support: install the cudatoolkit - development environemnt for creating high-performance GPU accelerated applications (need a NVIDIA GPU);\n",
    "- ```conda activate base/pytorch```"
   ]
  },
  {
   "cell_type": "code",
   "execution_count": 3,
   "metadata": {},
   "outputs": [
    {
     "name": "stdout",
     "output_type": "stream",
     "text": [
      "tensor([0.3741, 0.0649, 0.1770])\n"
     ]
    }
   ],
   "source": [
    "import torch\n",
    "x = torch.rand(3) # create torch tensor\n",
    "print(x)"
   ]
  },
  {
   "cell_type": "code",
   "execution_count": 5,
   "metadata": {},
   "outputs": [
    {
     "data": {
      "text/plain": [
       "False"
      ]
     },
     "execution_count": 5,
     "metadata": {},
     "output_type": "execute_result"
    }
   ],
   "source": [
    "torch.cuda.is_available() # does not support GPU :("
   ]
  },
  {
   "cell_type": "markdown",
   "metadata": {},
   "source": [
    "## Pytorch Tutorial 02 - Tensor Basics\n",
    "\n",
    "- How to work with tensors and basic operations;\n",
    "- Numpy - arrays and vectors;\n",
    "- Pytorch - tensors;"
   ]
  },
  {
   "cell_type": "code",
   "execution_count": 10,
   "metadata": {},
   "outputs": [
    {
     "name": "stdout",
     "output_type": "stream",
     "text": [
      "tensor([19746.7188])\n",
      "tensor([2.0357e+04, 3.0646e-41])\n",
      "tensor([[2.0098e+04, 3.0646e-41, 2.0236e+04],\n",
      "        [3.0646e-41, 8.9683e-44, 0.0000e+00]])\n",
      "tensor([[0.1075, 0.0583],\n",
      "        [0.9569, 0.8155]])\n",
      "tensor([0., 0., 0.])\n",
      "tensor([1., 1., 1.])\n"
     ]
    }
   ],
   "source": [
    "import torch\n",
    "\n",
    "x = torch.empty(1)\n",
    "print(x) # print empty tensor\n",
    "\n",
    "x = torch.empty(2)\n",
    "print(x)\n",
    "\n",
    "x = torch.empty(2, 3) # create empty tensor with multiple dimension\n",
    "print(x)\n",
    "\n",
    "x = torch.rand(2, 2) # random\n",
    "print(x)\n",
    "\n",
    "x = torch.zeros(3) # zeros\n",
    "print(x)\n",
    "\n",
    "x = torch.ones(3)\n",
    "print(x)"
   ]
  },
  {
   "cell_type": "code",
   "execution_count": 15,
   "metadata": {},
   "outputs": [
    {
     "name": "stdout",
     "output_type": "stream",
     "text": [
      "torch.float32\n",
      "torch.float64\n",
      "torch.int32\n",
      "torch.float16\n",
      "torch.Size([2, 2])\n"
     ]
    }
   ],
   "source": [
    "x = torch.ones(2, 2)\n",
    "print(x.dtype) # torch.float32 is default value\n",
    "\n",
    "x = torch.ones(2, 2, dtype=torch.double)\n",
    "print(x.dtype)\n",
    "\n",
    "x = torch.ones(2, 2, dtype=torch.int)\n",
    "print(x.dtype) \n",
    "\n",
    "x = torch.ones(2, 2, dtype=torch.float16)\n",
    "print(x.dtype)\n",
    "print(x.size()) # print size"
   ]
  },
  {
   "cell_type": "code",
   "execution_count": 17,
   "metadata": {},
   "outputs": [
    {
     "name": "stdout",
     "output_type": "stream",
     "text": [
      "tensor([2.5000, 0.1000, 4.2000])\n"
     ]
    }
   ],
   "source": [
    "x = torch.tensor([2.5, 0.1, 4.2])\n",
    "print(x)"
   ]
  },
  {
   "cell_type": "code",
   "execution_count": 18,
   "metadata": {},
   "outputs": [
    {
     "name": "stdout",
     "output_type": "stream",
     "text": [
      "tensor([[0.0907, 0.1031],\n",
      "        [0.0327, 0.3328]])\n",
      "tensor([[0.5270, 0.4406],\n",
      "        [0.9748, 0.2793]])\n",
      "tensor([[0.6176, 0.5437],\n",
      "        [1.0075, 0.6121]])\n",
      "tensor([[1.2353, 1.0873],\n",
      "        [2.0151, 1.2242]])\n"
     ]
    }
   ],
   "source": [
    "x = torch.rand(2, 2)\n",
    "y = torch.rand(2, 2)\n",
    "\n",
    "print(x)\n",
    "print(y)\n",
    "z = x + y\n",
    "print(z)\n",
    "z = torch.add(z, z) # adding\n",
    "print(z)"
   ]
  },
  {
   "cell_type": "markdown",
   "metadata": {},
   "source": [
    "- In-place operation: operation that changes directly the content of a given Tensor without making a copy. In-place operations in pytorch are always postfixed with a ```_```, like ```.add_()```. Python operations like ```+=``` or ```*=``` are also inplace operations."
   ]
  },
  {
   "cell_type": "code",
   "execution_count": 20,
   "metadata": {},
   "outputs": [
    {
     "name": "stdout",
     "output_type": "stream",
     "text": [
      "tensor([[1.3669, 1.4498],\n",
      "        [0.4668, 0.2541]])\n",
      "tensor([[-0.5121, -0.8404],\n",
      "        [-0.4568, -0.0030]])\n"
     ]
    }
   ],
   "source": [
    "x = torch.rand(2, 2)\n",
    "y = torch.rand(2, 2)\n",
    "\n",
    "y.add_(x)\n",
    "print(y)\n",
    "\n",
    "z = x - y;\n",
    "z = torch.sub(x, y) # torch.mul. y.mul_(x), torch.div(x, y)\n",
    "print(z)"
   ]
  },
  {
   "cell_type": "code",
   "execution_count": 28,
   "metadata": {},
   "outputs": [
    {
     "name": "stdout",
     "output_type": "stream",
     "text": [
      "tensor([[0.3222, 0.7806, 0.6722],\n",
      "        [0.9685, 0.2158, 0.0512],\n",
      "        [0.3598, 0.1178, 0.4182],\n",
      "        [0.0697, 0.2236, 0.5201],\n",
      "        [0.5012, 0.8890, 0.9663]])\n",
      "tensor([0.3222, 0.9685, 0.3598, 0.0697, 0.5012])\n",
      "tensor([0.9685, 0.2158, 0.0512])\n",
      "tensor(0.3222)\n",
      "0.3221678137779236\n"
     ]
    }
   ],
   "source": [
    "x = torch.rand(5, 3)\n",
    "print(x)\n",
    "print(x[:, 0]) # slicing\n",
    "print(x[1, :])\n",
    "print(x[0, 0])\n",
    "print(x[0, 0].item())"
   ]
  },
  {
   "cell_type": "code",
   "execution_count": 34,
   "metadata": {},
   "outputs": [
    {
     "name": "stdout",
     "output_type": "stream",
     "text": [
      "tensor([0.3222, 0.7806, 0.6722, 0.9685, 0.2158, 0.0512, 0.3598, 0.1178, 0.4182,\n",
      "        0.0697, 0.2236, 0.5201, 0.5012, 0.8890, 0.9663])\n",
      "torch.Size([15])\n",
      "tensor([[0.3222, 0.7806, 0.6722, 0.9685, 0.2158],\n",
      "        [0.0512, 0.3598, 0.1178, 0.4182, 0.0697],\n",
      "        [0.2236, 0.5201, 0.5012, 0.8890, 0.9663]])\n",
      "torch.Size([3, 5])\n"
     ]
    }
   ],
   "source": [
    "y = x.view(15)\n",
    "print(y)\n",
    "print(y.size())\n",
    "\n",
    "z = x.view(-1, 5) # reshaping\n",
    "print(z)\n",
    "print(z.size())"
   ]
  },
  {
   "cell_type": "code",
   "execution_count": 35,
   "metadata": {},
   "outputs": [
    {
     "name": "stdout",
     "output_type": "stream",
     "text": [
      "tensor([1., 1., 1., 1., 1.])\n",
      "<class 'numpy.ndarray'>\n"
     ]
    }
   ],
   "source": [
    "import numpy as np\n",
    "\n",
    "a = torch.ones(5) # tensor to a numpy array\n",
    "print(a)\n",
    "b = a.numpy()\n",
    "print(type(b))"
   ]
  },
  {
   "cell_type": "code",
   "execution_count": 36,
   "metadata": {},
   "outputs": [
    {
     "name": "stdout",
     "output_type": "stream",
     "text": [
      "[1. 1. 1. 1. 1.]\n",
      "tensor([1., 1., 1., 1., 1.], dtype=torch.float64)\n"
     ]
    }
   ],
   "source": [
    "a = np.ones(5)\n",
    "print(a)\n",
    "b = torch.from_numpy(a)\n",
    "print(b)"
   ]
  },
  {
   "cell_type": "code",
   "execution_count": 40,
   "metadata": {},
   "outputs": [],
   "source": [
    "if torch.cuda.is_available(): # create a tensor and put on GPU\n",
    "    device = torch.device(\"cuda\")\n",
    "    x = torch.ones(5, device=device)\n",
    "    y = torch.ones(5)\n",
    "    y = y.to(device)\n",
    "    z = x + y # performed on GPU\n",
    "    print(z)"
   ]
  },
  {
   "cell_type": "code",
   "execution_count": 41,
   "metadata": {},
   "outputs": [
    {
     "name": "stdout",
     "output_type": "stream",
     "text": [
      "tensor([1., 1., 1., 1., 1.], requires_grad=True)\n"
     ]
    }
   ],
   "source": [
    "# pytorch will need to calculate the gradient later in the optimization steps\n",
    "x = torch.ones(5, requires_grad=True)\n",
    "print(x)"
   ]
  },
  {
   "cell_type": "markdown",
   "metadata": {},
   "source": [
    "## Pytorch Tutorial 03 - Gradient Calculation With Autograd\n",
    "\n",
    "- ```autograd``` package in pytorch and how to calculate gradients with it (gradients are essential for our model optimization);"
   ]
  },
  {
   "cell_type": "code",
   "execution_count": 50,
   "metadata": {},
   "outputs": [
    {
     "name": "stdout",
     "output_type": "stream",
     "text": [
      "tensor([-0.3214,  0.2705, -1.5029], requires_grad=True)\n",
      "tensor([1.6786, 2.2705, 0.4971], grad_fn=<AddBackward0>)\n",
      "tensor(5.4801, grad_fn=<MeanBackward0>)\n",
      "tensor([2.2381, 3.0274, 0.6627])\n"
     ]
    }
   ],
   "source": [
    "x = torch.randn(3, requires_grad=True)\n",
    "print(x)\n",
    "\n",
    "# 2 inputs in the node: x and 2\n",
    "# node: +\n",
    "# output: y\n",
    "# forward -> calculate y\n",
    "y = x + 2 # computational graph \n",
    "# with backpropagation we can calculate gradients\n",
    "print(y)\n",
    "\n",
    "z = y*y*2\n",
    "z = z.mean() # necessary\n",
    "print(z) # grad_fn=<MulBackward0>\n",
    "\n",
    "z.backward() # dz/dx gradient of z with respect to x\n",
    "print(x.grad) # grad- where gradients are stores\n",
    "\n",
    "# detaisl about chain rule and jacobian"
   ]
  },
  {
   "cell_type": "code",
   "execution_count": 51,
   "metadata": {},
   "outputs": [
    {
     "name": "stdout",
     "output_type": "stream",
     "text": [
      "tensor([-0.3214,  0.2705, -1.5029])\n"
     ]
    }
   ],
   "source": [
    "x.requires_grad_(False)\n",
    "print(x)"
   ]
  },
  {
   "cell_type": "code",
   "execution_count": 52,
   "metadata": {},
   "outputs": [
    {
     "name": "stdout",
     "output_type": "stream",
     "text": [
      "tensor([ 1.1547, -0.7095, -1.2912], requires_grad=True)\n",
      "tensor([3.1547, 1.2905, 0.7088])\n"
     ]
    }
   ],
   "source": [
    "x = torch.randn(3, requires_grad=True)\n",
    "print(x)\n",
    "\n",
    "with torch.no_grad(): # stop gradient\n",
    "    y = x +2\n",
    "    print(y) "
   ]
  },
  {
   "cell_type": "code",
   "execution_count": 54,
   "metadata": {},
   "outputs": [
    {
     "name": "stdout",
     "output_type": "stream",
     "text": [
      "tensor([3., 3., 3., 3.])\n",
      "tensor([6., 6., 6., 6.])\n",
      "tensor([9., 9., 9., 9.])\n"
     ]
    }
   ],
   "source": [
    "weights = torch.ones(4, requires_grad=True)\n",
    "\n",
    "for epoch in range(3):\n",
    "    model_output = (weights*3).sum()\n",
    "    \n",
    "    model_output.backward()\n",
    "    \n",
    "    print(weights.grad)"
   ]
  },
  {
   "cell_type": "code",
   "execution_count": 60,
   "metadata": {},
   "outputs": [
    {
     "data": {
      "text/plain": [
       "'\\nweights = torch.ones(4, requires_grad=True)\\n\\noptimizer = torch.optim.SGD(weights, lr=0.01)\\noptimizer.step()\\noptimizer.zero_grad()\\n'"
      ]
     },
     "execution_count": 60,
     "metadata": {},
     "output_type": "execute_result"
    }
   ],
   "source": [
    "'''\n",
    "weights = torch.ones(4, requires_grad=True)\n",
    "\n",
    "optimizer = torch.optim.SGD(weights, lr=0.01)\n",
    "optimizer.step()\n",
    "optimizer.zero_grad()\n",
    "'''"
   ]
  },
  {
   "cell_type": "markdown",
   "metadata": {},
   "source": [
    "## Pytorch Tutorial 04 - Backpropagation - Theory With Example\n",
    "\n",
    "- Examples, concepts and how to calculate gradients with it;\n",
    "- Chain rule: dz/dx = dz/dy . dy/dx\n",
    "- Computational graph - compute local gradients;\n",
    "\n",
    "1) Forward pass: compute loss;\n",
    "\n",
    "2) Compute local gradients;\n",
    "\n",
    "3) Backward pass: compute dLoss/dWeights using the chain rule;"
   ]
  },
  {
   "cell_type": "code",
   "execution_count": 62,
   "metadata": {},
   "outputs": [
    {
     "name": "stdout",
     "output_type": "stream",
     "text": [
      "tensor(1., grad_fn=<PowBackward0>)\n",
      "tensor(-2.)\n"
     ]
    }
   ],
   "source": [
    "x = torch.tensor(1.0)\n",
    "y = torch.tensor(2.0)\n",
    "\n",
    "w = torch.tensor(1.0, requires_grad=True)\n",
    "\n",
    "#forward pass and compute the loss\n",
    "y_hat = w * x\n",
    "loss = (y_hat - y)**2\n",
    "print(loss)\n",
    "\n",
    "# backward pass\n",
    "loss.backward()\n",
    "print(w.grad)\n",
    "\n",
    "# update weights, next forward and backwards"
   ]
  },
  {
   "cell_type": "markdown",
   "metadata": {},
   "source": [
    "## Pytorch Tutorial 05 - Gradient Descent with Autograd and Backpropagation\n",
    "\n",
    "- Concrete example on how to optimize our model with automatic gradient computation using PyTorch autograd package;\n",
    "\n",
    "- Implementing linear regression:\n",
    "    - 1) Prediction: manually;\n",
    "    - 1) Gradients computation: manually;\n",
    "    - 1) Loss computation: manually;\n",
    "    - 1) Parameter updates: manually;"
   ]
  },
  {
   "cell_type": "code",
   "execution_count": 71,
   "metadata": {},
   "outputs": [
    {
     "name": "stdout",
     "output_type": "stream",
     "text": [
      "Prediction before training: f(5) = 0.000\n",
      "1: w = 1.200, loss = 30.00000000\n",
      "2: w = 1.680, loss = 4.79999924\n",
      "3: w = 1.872, loss = 0.76800019\n",
      "4: w = 1.949, loss = 0.12288000\n",
      "5: w = 1.980, loss = 0.01966083\n",
      "6: w = 1.992, loss = 0.00314574\n",
      "7: w = 1.997, loss = 0.00050331\n",
      "8: w = 1.999, loss = 0.00008053\n",
      "9: w = 1.999, loss = 0.00001288\n",
      "10: w = 2.000, loss = 0.00000206\n",
      "11: w = 2.000, loss = 0.00000033\n",
      "12: w = 2.000, loss = 0.00000005\n",
      "13: w = 2.000, loss = 0.00000001\n",
      "14: w = 2.000, loss = 0.00000000\n",
      "Prediction before training: f(5) = 10.000\n"
     ]
    }
   ],
   "source": [
    "# logistic regression implementation\n",
    "import numpy as np\n",
    "\n",
    "# f = x * w\n",
    "x = np.array([1, 2, 3, 4], dtype=np.float32)\n",
    "y = np.array([2, 4, 6, 8], dtype=np.float32)\n",
    "\n",
    "w = 0.0 # weights\n",
    "\n",
    "# model prediction\n",
    "def forward(x):\n",
    "    return w * x\n",
    "\n",
    "# loss = MSE (mean square error)\n",
    "def loss(y, y_predicted):\n",
    "    return ((y_predicted - y)**2).mean()\n",
    "\n",
    "# gradient\n",
    "# MSE - 1/N * (w*x - y)**2\n",
    "# dJ/dw = 1/N 2x (w*x -y)\n",
    "def gradient(x, y, y_predicted):\n",
    "    return np.dot(2*x, y_predicted - y).mean()\n",
    "\n",
    "print(f'Prediction before training: f(5) = {forward(5):.3f}')\n",
    "\n",
    "# training\n",
    "learning_rate = 0.01\n",
    "n_iters = 14\n",
    "\n",
    "for epoch in range(n_iters):\n",
    "    # prediction = forward pass\n",
    "    y_pred = forward(x)\n",
    "    \n",
    "    # loss\n",
    "    l = loss(y, y_pred)\n",
    "    \n",
    "    # gradients\n",
    "    dw = gradient(x, y, y_pred)\n",
    "    \n",
    "    # update weights (go in the negative direction of the training data)\n",
    "    w -= learning_rate * dw\n",
    "    \n",
    "    # print information\n",
    "    if epoch % 1 == 0:\n",
    "        print(f'{epoch + 1}: w = {w:.3f}, loss = {l:.8f}')\n",
    "        \n",
    "print(f'Prediction before training: f(5) = {forward(5):.3f}')"
   ]
  },
  {
   "cell_type": "markdown",
   "metadata": {},
   "source": [
    "   - \n",
    "    - 2) Prediction: manually;\n",
    "    - 2) Gradients computation: autograd;\n",
    "    - 2) Loss computation: manually;\n",
    "    - 2) Parameter updates: manually;"
   ]
  },
  {
   "cell_type": "code",
   "execution_count": 79,
   "metadata": {},
   "outputs": [
    {
     "name": "stdout",
     "output_type": "stream",
     "text": [
      "Prediction before training: f(5) = 0.000\n",
      "1: w = 0.300, loss = 30.00000000\n",
      "11: w = 1.665, loss = 1.16278565\n",
      "21: w = 1.934, loss = 0.04506890\n",
      "31: w = 1.987, loss = 0.00174685\n",
      "41: w = 1.997, loss = 0.00006770\n",
      "51: w = 1.999, loss = 0.00000262\n",
      "61: w = 2.000, loss = 0.00000010\n",
      "71: w = 2.000, loss = 0.00000000\n",
      "Prediction before training: f(5) = 10.000\n"
     ]
    }
   ],
   "source": [
    "# logistic regression implementation\n",
    "import torch\n",
    "\n",
    "# f = x * w\n",
    "x = torch.tensor([1, 2, 3, 4], dtype=torch.float32)\n",
    "y = torch.tensor([2, 4, 6, 8], dtype=torch.float32)\n",
    "\n",
    " # weight\n",
    "w = torch.tensor(0.0, dtype=torch.float32, requires_grad=True)\n",
    "\n",
    "# model prediction\n",
    "def forward(x):\n",
    "    return w * x\n",
    "\n",
    "# loss = MSE (mean square error)\n",
    "def loss(y, y_predicted):\n",
    "    return ((y_predicted - y)**2).mean()\n",
    "\n",
    "# gradient\n",
    "# MSE - 1/N * (w*x - y)**2\n",
    "# dJ/dw = 1/N 2x (w*x -y)\n",
    "def gradient(x, y, y_predicted):\n",
    "    return np.dot(2*x, y_predicted - y).mean()\n",
    "\n",
    "print(f'Prediction before training: f(5) = {forward(5):.3f}')\n",
    "\n",
    "# training\n",
    "learning_rate = 0.01\n",
    "n_iters = 80 # needs more iterations\n",
    "\n",
    "for epoch in range(n_iters):\n",
    "    # prediction = forward pass\n",
    "    y_pred = forward(x)\n",
    "    \n",
    "    # loss\n",
    "    l = loss(y, y_pred)\n",
    "    \n",
    "    # gradients = backward pass\n",
    "    l.backward() # dl/dx\n",
    "    \n",
    "    # update weights (go in the negative direction of the training data)\n",
    "    with torch.no_grad():\n",
    "        w -= learning_rate * w.grad\n",
    "        \n",
    "    # zero gradients\n",
    "    w.grad.zero_()\n",
    "    \n",
    "    # print information\n",
    "    if epoch % 10 == 0: # every 10th step\n",
    "        print(f'{epoch + 1}: w = {w:.3f}, loss = {l:.8f}')\n",
    "        \n",
    "print(f'Prediction before training: f(5) = {forward(5):.3f}')"
   ]
  },
  {
   "cell_type": "markdown",
   "metadata": {},
   "source": [
    "## Pytorch Tutorial 06 -  Training Pipeline: Model, Loss, and Optimizer\n",
    "\n",
    "- \n",
    "    - 3) Prediction: manually;\n",
    "    - 3) Gradients computation: autograd;\n",
    "    - 3) Loss computation: PyTorch loss;\n",
    "    - 3) Parameter updates: PyTorch optimizer;"
   ]
  },
  {
   "cell_type": "code",
   "execution_count": 80,
   "metadata": {},
   "outputs": [
    {
     "name": "stdout",
     "output_type": "stream",
     "text": [
      "Prediction before training: f(5) = 0.000\n",
      "1: w = 0.300, loss = 30.00000000\n",
      "11: w = 1.665, loss = 1.16278565\n",
      "21: w = 1.934, loss = 0.04506890\n",
      "31: w = 1.987, loss = 0.00174685\n",
      "41: w = 1.997, loss = 0.00006770\n",
      "51: w = 1.999, loss = 0.00000262\n",
      "61: w = 2.000, loss = 0.00000010\n",
      "71: w = 2.000, loss = 0.00000000\n",
      "Prediction before training: f(5) = 10.000\n"
     ]
    }
   ],
   "source": [
    "# 1) Design model (input, output size, forward pass)\n",
    "# 2) Contruct loss and optimizer\n",
    "# 3) Training loop\n",
    "#    - forward pass: compute prediction\n",
    "#    - backward pass: gradients\n",
    "#    - update weights\n",
    "\n",
    "import torch.nn as nn # use some functions from neural networks\n",
    "\n",
    "# f = x * w\n",
    "x = torch.tensor([1, 2, 3, 4], dtype=torch.float32)\n",
    "y = torch.tensor([2, 4, 6, 8], dtype=torch.float32)\n",
    "\n",
    " # weight\n",
    "w = torch.tensor(0.0, dtype=torch.float32, requires_grad=True)\n",
    "\n",
    "# model prediction\n",
    "def forward(x):\n",
    "    return w * x\n",
    "\n",
    "# gradient\n",
    "# MSE - 1/N * (w*x - y)**2\n",
    "# dJ/dw = 1/N 2x (w*x -y)\n",
    "def gradient(x, y, y_predicted):\n",
    "    return np.dot(2*x, y_predicted - y).mean()\n",
    "\n",
    "print(f'Prediction before training: f(5) = {forward(5):.3f}')\n",
    "\n",
    "# training\n",
    "learning_rate = 0.01\n",
    "n_iters = 80 # needs more iterations\n",
    "\n",
    "# loss\n",
    "# exactly what we implemented before, but now with torch.nn function\n",
    "loss = nn.MSELoss() # mean root square\n",
    "optimizer = torch.optim.SGD([w], lr=learning_rate) # stocastic gradient descent\n",
    "\n",
    "for epoch in range(n_iters):\n",
    "    # prediction = forward pass\n",
    "    y_pred = forward(x)\n",
    "    \n",
    "    # loss\n",
    "    l = loss(y, y_pred)\n",
    "    \n",
    "    # gradients = backward pass\n",
    "    l.backward() # dl/dx\n",
    "    \n",
    "    # update weights\n",
    "    optimizer.step()\n",
    "        \n",
    "    # zero gradients\n",
    "    optimizer.zero_grad()\n",
    "    \n",
    "    # print information\n",
    "    if epoch % 10 == 0: # every 10th step\n",
    "        print(f'{epoch + 1}: w = {w:.3f}, loss = {l:.8f}')\n",
    "        \n",
    "print(f'Prediction before training: f(5) = {forward(5):.3f}')"
   ]
  },
  {
   "cell_type": "markdown",
   "metadata": {},
   "source": [
    "- \n",
    "    - 4) Prediction: pytorch model;\n",
    "    - 4) Gradients computation: autograd;\n",
    "    - 4) Loss computation: PyTorch loss;\n",
    "    - 4) Parameter updates: PyTorch optimizer;\n"
   ]
  },
  {
   "cell_type": "code",
   "execution_count": 91,
   "metadata": {},
   "outputs": [
    {
     "name": "stdout",
     "output_type": "stream",
     "text": [
      "4 1\n",
      "Prediction before training: f(5) = 4.361\n",
      "1: w = 1.152, loss = 10.74855423\n",
      "41: w = 2.041, loss = 0.00248790\n",
      "81: w = 2.037, loss = 0.00195354\n",
      "121: w = 2.033, loss = 0.00153690\n",
      "161: w = 2.029, loss = 0.00120913\n",
      "201: w = 2.026, loss = 0.00095126\n",
      "241: w = 2.023, loss = 0.00074839\n",
      "281: w = 2.020, loss = 0.00058877\n",
      "321: w = 2.018, loss = 0.00046321\n",
      "361: w = 2.016, loss = 0.00036441\n",
      "401: w = 2.014, loss = 0.00028669\n",
      "441: w = 2.012, loss = 0.00022556\n",
      "481: w = 2.011, loss = 0.00017745\n",
      "Prediction before training: f(5) = 10.022\n"
     ]
    }
   ],
   "source": [
    "# f = x * w\n",
    "x = torch.tensor([[1], [2], [3], [4]], dtype=torch.float32)\n",
    "y = torch.tensor([[2], [4], [6], [8]], dtype=torch.float32)\n",
    "\n",
    "x_test = torch.tensor([5], dtype=torch.float32)\n",
    "\n",
    "n_samples, n_features = x.shape\n",
    "print(n_samples, n_features) # 4 1\n",
    "\n",
    "input_size = n_features\n",
    "output_size = n_features\n",
    "\n",
    "model = nn.Linear(input_size, output_size)\n",
    "\n",
    "# gradient\n",
    "# MSE - 1/N * (w*x - y)**2\n",
    "# dJ/dw = 1/N 2x (w*x -y)\n",
    "def gradient(x, y, y_predicted):\n",
    "    return np.dot(2*x, y_predicted - y).mean()\n",
    "\n",
    "print(f'Prediction before training: f(5) = {model(x_test).item():.3f}')\n",
    "\n",
    "# training\n",
    "learning_rate = 0.01\n",
    "n_iters = 500 # needs more iterations\n",
    "\n",
    "# loss\n",
    "# exactly what we implemented before, but now with torch.nn function\n",
    "loss = nn.MSELoss() # mean root square\n",
    "optimizer = torch.optim.SGD(model.parameters(), lr=learning_rate) # stocastic gradient descent\n",
    "\n",
    "for epoch in range(n_iters):\n",
    "    # prediction = forward pass\n",
    "    y_pred = model(x)\n",
    "    \n",
    "    # loss\n",
    "    l = loss(y, y_pred)\n",
    "    \n",
    "    # gradients = backward pass\n",
    "    l.backward() # dl/dx\n",
    "    \n",
    "    # update weights\n",
    "    optimizer.step()\n",
    "        \n",
    "    # zero gradients\n",
    "    optimizer.zero_grad()\n",
    "    \n",
    "    # print information\n",
    "    if epoch % 40 == 0: # every 10th step\n",
    "        [w, b] = model.parameters()\n",
    "        print(f'{epoch + 1}: w = {w[0][0].item():.3f}, loss = {l:.8f}')\n",
    "        \n",
    "print(f'Prediction before training: f(5) = {model(x_test).item():.3f}')"
   ]
  },
  {
   "cell_type": "code",
   "execution_count": 92,
   "metadata": {},
   "outputs": [
    {
     "name": "stdout",
     "output_type": "stream",
     "text": [
      "4 1\n",
      "Prediction before training: f(5) = -1.914\n",
      "1: w = -0.142, loss = 40.14307404\n",
      "41: w = 1.628, loss = 0.19977194\n",
      "81: w = 1.671, loss = 0.15715234\n",
      "121: w = 1.708, loss = 0.12363625\n",
      "161: w = 1.741, loss = 0.09726823\n",
      "201: w = 1.770, loss = 0.07652378\n",
      "241: w = 1.796, loss = 0.06020353\n",
      "281: w = 1.819, loss = 0.04736383\n",
      "321: w = 1.840, loss = 0.03726248\n",
      "361: w = 1.858, loss = 0.02931543\n",
      "401: w = 1.874, loss = 0.02306333\n",
      "441: w = 1.888, loss = 0.01814459\n",
      "481: w = 1.901, loss = 0.01427486\n",
      "Prediction before training: f(5) = 9.807\n"
     ]
    }
   ],
   "source": [
    "# f = x * w\n",
    "x = torch.tensor([[1], [2], [3], [4]], dtype=torch.float32)\n",
    "y = torch.tensor([[2], [4], [6], [8]], dtype=torch.float32)\n",
    "\n",
    "x_test = torch.tensor([5], dtype=torch.float32)\n",
    "\n",
    "n_samples, n_features = x.shape\n",
    "print(n_samples, n_features) # 4 1\n",
    "\n",
    "input_size = n_features\n",
    "output_size = n_features\n",
    "\n",
    "# creating a pytorch model\n",
    "class LinearRegression(nn.Module):\n",
    "    def __init__(self, input_dim, output_dim):\n",
    "        super(LinearRegression, self).__init__()\n",
    "        # define layers\n",
    "        self.lin = nn.Linear(input_dim, output_dim)\n",
    "        \n",
    "    def forward(self, x):\n",
    "        return self.lin(x)\n",
    "    \n",
    "model = LinearRegression(input_size, output_size)\n",
    "\n",
    "# gradient\n",
    "# MSE - 1/N * (w*x - y)**2\n",
    "# dJ/dw = 1/N 2x (w*x -y)\n",
    "def gradient(x, y, y_predicted):\n",
    "    return np.dot(2*x, y_predicted - y).mean()\n",
    "\n",
    "print(f'Prediction before training: f(5) = {model(x_test).item():.3f}')\n",
    "\n",
    "# training\n",
    "learning_rate = 0.01\n",
    "n_iters = 500 # needs more iterations\n",
    "\n",
    "# loss\n",
    "# exactly what we implemented before, but now with torch.nn function\n",
    "loss = nn.MSELoss() # mean root square\n",
    "optimizer = torch.optim.SGD(model.parameters(), lr=learning_rate) # stocastic gradient descent\n",
    "\n",
    "for epoch in range(n_iters):\n",
    "    # prediction = forward pass\n",
    "    y_pred = model(x)\n",
    "    \n",
    "    # loss\n",
    "    l = loss(y, y_pred)\n",
    "    \n",
    "    # gradients = backward pass\n",
    "    l.backward() # dl/dx\n",
    "    \n",
    "    # update weights\n",
    "    optimizer.step()\n",
    "        \n",
    "    # zero gradients\n",
    "    optimizer.zero_grad()\n",
    "    \n",
    "    # print information\n",
    "    if epoch % 40 == 0: # every 10th step\n",
    "        [w, b] = model.parameters()\n",
    "        print(f'{epoch + 1}: w = {w[0][0].item():.3f}, loss = {l:.8f}')\n",
    "        \n",
    "print(f'Prediction before training: f(5) = {model(x_test).item():.3f}')"
   ]
  },
  {
   "cell_type": "markdown",
   "metadata": {},
   "source": [
    "## Pytorch Tutorial 07 - Linear Regression\n",
    "\n",
    "- 1) Design model (input, output size, forward pass)\n",
    "- 2) Contruct loss and optimizer\n",
    "- 3) Training loop\n",
    "    - forward pass: compute prediction\n",
    "    - backward pass: gradients\n",
    "    - update weights"
   ]
  },
  {
   "cell_type": "code",
   "execution_count": 97,
   "metadata": {},
   "outputs": [
    {
     "name": "stdout",
     "output_type": "stream",
     "text": [
      "epoch: 100, loss = 563.8965\n",
      "epoch: 200, loss = 342.5907\n",
      "epoch: 300, loss = 333.0102\n",
      "epoch: 400, loss = 332.5873\n",
      "epoch: 500, loss = 332.5685\n",
      "epoch: 600, loss = 332.5676\n",
      "epoch: 700, loss = 332.5675\n",
      "epoch: 800, loss = 332.5675\n",
      "epoch: 900, loss = 332.5676\n",
      "epoch: 1000, loss = 332.5676\n"
     ]
    },
    {
     "data": {
      "image/png": "[encoded data removed]",
      "text/plain": [
       "<Figure size 432x288 with 1 Axes>"
      ]
     },
     "metadata": {
      "needs_background": "light"
     },
     "output_type": "display_data"
    }
   ],
   "source": [
    "from sklearn import datasets\n",
    "import matplotlib.pyplot as plt\n",
    "\n",
    "# 0) prepare data\n",
    "x_numpy, y_numpy = datasets.make_regression(n_samples=100, n_features=1, noise=20, random_state=1)\n",
    "\n",
    "x = torch.from_numpy(x_numpy.astype(np.float32))\n",
    "y = torch.from_numpy(y_numpy.astype(np.float32))\n",
    "# make one column vector\n",
    "y = y.view(y.shape[0], 1)\n",
    "\n",
    "n_samples, n_features = x.shape\n",
    "\n",
    "# 1) model\n",
    "input_size = n_features\n",
    "output_size = 1\n",
    "model = nn.Linear(input_size, output_size)\n",
    "\n",
    "# 2) loss and optimizer\n",
    "learning_rate = 0.01\n",
    "criterion = nn.MSELoss()\n",
    "optimizer = torch.optim.SGD(model.parameters(), lr = learning_rate)\n",
    "\n",
    "# 3) training loop\n",
    "num_epochs = 1000\n",
    "for epoch in range(num_epochs):\n",
    "    # forward pass and loss\n",
    "    y_predicted = model(x)\n",
    "    loss = criterion(y_predicted, y)\n",
    "    \n",
    "    # backward pass\n",
    "    loss.backward()\n",
    "    \n",
    "    # update\n",
    "    optimizer.step()\n",
    "    optimizer.zero_grad()\n",
    "    \n",
    "    if (epoch + 1) % 100 == 0:\n",
    "        print(f'epoch: {epoch + 1}, loss = {loss.item():.4f}')\n",
    "        \n",
    "# plot \n",
    "predicted = model(x).detach().numpy()\n",
    "plt.plot(x_numpy, y_numpy,'ro')\n",
    "plt.plot(x_numpy, predicted, 'b')\n",
    "plt.show()"
   ]
  },
  {
   "cell_type": "markdown",
   "metadata": {},
   "source": [
    "## Pytorch Tutorial 08 - Logistic Regression\n",
    "\n",
    "- 1) Design model (input, output size, forward pass)\n",
    "- 2) Construct loss and optimizer\n",
    "- 3) Training loop\n",
    "    - forward pass: compute prediction\n",
    "    - backward pass: gradients\n",
    "    - update weights\n",
    "    \n",
    "- Similar to Linear regression, just have to ajust the model and the loss function;"
   ]
  },
  {
   "cell_type": "code",
   "execution_count": 119,
   "metadata": {},
   "outputs": [
    {
     "name": "stdout",
     "output_type": "stream",
     "text": [
      "569 30\n",
      "epoch: 100, loss = 0.2374\n",
      "epoch: 200, loss = 0.1739\n",
      "epoch: 300, loss = 0.1456\n",
      "epoch: 400, loss = 0.1287\n",
      "epoch: 500, loss = 0.1173\n",
      "epoch: 600, loss = 0.1089\n",
      "epoch: 700, loss = 0.1025\n",
      "epoch: 800, loss = 0.0973\n",
      "epoch: 900, loss = 0.0930\n",
      "epoch: 1000, loss = 0.0894\n",
      "accuracy = 0.9211\n"
     ]
    },
    {
     "data": {
      "image/png": "[encoded data removed]",
      "text/plain": [
       "<Figure size 432x288 with 1 Axes>"
      ]
     },
     "metadata": {
      "needs_background": "light"
     },
     "output_type": "display_data"
    }
   ],
   "source": [
    "# binary classification dataset\n",
    "\n",
    "from sklearn.preprocessing import StandardScaler # binary classification dataset\n",
    "from sklearn.model_selection import train_test_split # split test / train\n",
    "\n",
    "# 0) prepare data ---------------------------------------------------------------\n",
    "# binary classification problem\n",
    "# predict cancer based on input features\n",
    "bc = datasets.load_breast_cancer()\n",
    "X, y = bc.data, bc.target\n",
    "\n",
    "n_samples, n_features = X.shape\n",
    "print(n_samples, n_features)\n",
    "# 569 samples and 30 different features\n",
    "\n",
    "X_train, X_test, y_train, y_test = train_test_split(X, y, test_size=0.2, random_state=1234) # test_size 20%\n",
    "\n",
    "#scale \n",
    "sc      = StandardScaler()\n",
    "X_train = sc.fit_transform(X_train)\n",
    "X_test  = sc.transform(X_test)\n",
    "\n",
    "X_train = torch.from_numpy(X_train.astype(np.float32))\n",
    "X_test  = torch.from_numpy(X_test.astype(np.float32))\n",
    "y_train = torch.from_numpy(y_train.astype(np.float32))\n",
    "y_test  = torch.from_numpy(y_test.astype(np.float32))\n",
    "\n",
    "# reshape tensor\n",
    "y_train = y_train.view(y_train.shape[0], 1)\n",
    "y_test  = y_test.view(y_test.shape[0], 1)\n",
    "\n",
    "\n",
    "# 1) model ----------------------------------------------------------------------\n",
    "# f = wx + b, sigmoid at the end\n",
    "class LogisticRegression(nn.Module):\n",
    "    def __init__(self, n_input_features):\n",
    "        super(LogisticRegression, self).__init__()\n",
    "        self.linear = nn.Linear(n_input_features, 1)\n",
    "    \n",
    "    def forward(self, x):\n",
    "        y_predicted = torch.sigmoid(self.linear(x))\n",
    "        return y_predicted\n",
    "    \n",
    "model = LogisticRegression(n_features)\n",
    "\n",
    "# 2) loss and optimizer ---------------------------------------------------------\n",
    "learning_rate = 0.01\n",
    "# BCE - binary cross entropy loss\n",
    "criterion = nn.BCELoss()\n",
    "# SGD - stocastic gradient descent\n",
    "optimizer = torch.optim.SGD(model.parameters(), lr=learning_rate)\n",
    "\n",
    "# 3) training loop --------------------------------------------------------------\n",
    "num_epochs = 1000\n",
    "\n",
    "for epoch in range(num_epochs):\n",
    "    # forward pass and loss\n",
    "    y_predicted = model(X_train)\n",
    "    loss = criterion(y_predicted, y_train)\n",
    "    \n",
    "    # backward pass\n",
    "    loss.backward()\n",
    "    \n",
    "    # updates\n",
    "    optimizer.step()\n",
    "    \n",
    "    # zero gradients\n",
    "    optimizer.zero_grad()\n",
    "    \n",
    "    if (epoch + 1) % 100 == 0:\n",
    "        print(f'epoch: {epoch + 1}, loss = {loss.item():.4f}')\n",
    "        \n",
    "with torch.no_grad():\n",
    "    y_predicted = model(X_test)\n",
    "    y_predicted_cls = y_predicted.round()\n",
    "    acc = y_predicted_cls.eq(y_test).sum() / float(y_test.shape[0])\n",
    "    print(f'accuracy = {acc:.4f}')\n",
    "\n",
    "plt.plot(X, y, 'bo')\n",
    "plt.show()"
   ]
  },
  {
   "cell_type": "markdown",
   "metadata": {},
   "source": [
    "## Pytorch Tutorial 09 - Dataset and DataLoader - Batch Training\n",
    "\n",
    "- Pytorch dataset and data loader classes;\n",
    "- Before, we loaded the dataset as below, from a csv file;\n",
    "- And the trainig loop that looped over the number of epochs;\n",
    "- And optimized our model based on the whole data set;\n",
    "- This might be very time consuming if we do the calculation on this large data!\n",
    "\n",
    "- We can devide the samples into smaller **batches**;"
   ]
  },
  {
   "cell_type": "code",
   "execution_count": 123,
   "metadata": {},
   "outputs": [
    {
     "data": {
      "text/plain": [
       "\"\\n# before - time consuming\\ndata = np.loadtxt('wine.csv')\\n\\n# training loop\\nfor epoch in range(1000):\\n    x, y = data\\n    # forward + backward + weight updates\\n\""
      ]
     },
     "execution_count": 123,
     "metadata": {},
     "output_type": "execute_result"
    }
   ],
   "source": [
    "'''\n",
    "# before - time consuming\n",
    "data = np.loadtxt('wine.csv')\n",
    "\n",
    "# training loop\n",
    "for epoch in range(1000):\n",
    "    x, y = data\n",
    "    # forward + backward + weight updates\n",
    "'''"
   ]
  },
  {
   "cell_type": "code",
   "execution_count": 124,
   "metadata": {},
   "outputs": [
    {
     "data": {
      "text/plain": [
       "'\\n# after- optimized \\n\\n# training loop\\nfor epoch in range(1000):\\n    # loop over all batches\\n    for i in range(total_batches):\\n        x_batch, y_batch = ...\\n'"
      ]
     },
     "execution_count": 124,
     "metadata": {},
     "output_type": "execute_result"
    }
   ],
   "source": [
    "'''\n",
    "# after- optimized \n",
    "\n",
    "# training loop\n",
    "for epoch in range(1000):\n",
    "    # loop over all batches\n",
    "    for i in range(total_batches):\n",
    "        x_batch, y_batch = ...\n",
    "        \n",
    "# --> use DataSet and DataLoader to load wine.csv\n",
    "'''"
   ]
  },
  {
   "cell_type": "markdown",
   "metadata": {},
   "source": [
    "- **epoch** = 1 forward and backward pass of ALL training samples;\n",
    "- **batch_size** = number of training samples in one forward and backward pass;\n",
    "- **number of iterations** = number of passes, each pass using [batch_size] number of samples;\n",
    "- e.g. 100 samples, batch_size=20 --> 100/20 = 5 iterations for 1 epoch"
   ]
  },
  {
   "cell_type": "code",
   "execution_count": 132,
   "metadata": {},
   "outputs": [
    {
     "name": "stdout",
     "output_type": "stream",
     "text": [
      "tensor([1.4230e+01, 1.7100e+00, 2.4300e+00, 1.5600e+01, 1.2700e+02, 2.8000e+00,\n",
      "        3.0600e+00, 2.8000e-01, 2.2900e+00, 5.6400e+00, 1.0400e+00, 3.9200e+00,\n",
      "        1.0650e+03]) tensor([1.])\n",
      "tensor([1.4230e+01, 1.7100e+00, 2.4300e+00, 1.5600e+01, 1.2700e+02, 2.8000e+00,\n",
      "        3.0600e+00, 2.8000e-01, 2.2900e+00, 5.6400e+00, 1.0400e+00, 3.9200e+00,\n",
      "        1.0650e+03]) tensor([1.])\n",
      "178 45\n",
      "epoch = 1/2, step = 5/45, inputs = torch.Size([4, 13])\n",
      "epoch = 1/2, step = 10/45, inputs = torch.Size([4, 13])\n",
      "epoch = 1/2, step = 15/45, inputs = torch.Size([4, 13])\n",
      "epoch = 1/2, step = 20/45, inputs = torch.Size([4, 13])\n",
      "epoch = 1/2, step = 25/45, inputs = torch.Size([4, 13])\n",
      "epoch = 1/2, step = 30/45, inputs = torch.Size([4, 13])\n",
      "epoch = 1/2, step = 35/45, inputs = torch.Size([4, 13])\n",
      "epoch = 1/2, step = 40/45, inputs = torch.Size([4, 13])\n",
      "epoch = 1/2, step = 45/45, inputs = torch.Size([2, 13])\n",
      "epoch = 2/2, step = 5/45, inputs = torch.Size([4, 13])\n",
      "epoch = 2/2, step = 10/45, inputs = torch.Size([4, 13])\n",
      "epoch = 2/2, step = 15/45, inputs = torch.Size([4, 13])\n",
      "epoch = 2/2, step = 20/45, inputs = torch.Size([4, 13])\n",
      "epoch = 2/2, step = 25/45, inputs = torch.Size([4, 13])\n",
      "epoch = 2/2, step = 30/45, inputs = torch.Size([4, 13])\n",
      "epoch = 2/2, step = 35/45, inputs = torch.Size([4, 13])\n",
      "epoch = 2/2, step = 40/45, inputs = torch.Size([4, 13])\n",
      "epoch = 2/2, step = 45/45, inputs = torch.Size([2, 13])\n"
     ]
    }
   ],
   "source": [
    "import torchvision\n",
    "from torch.utils.data import Dataset, DataLoader\n",
    "import math\n",
    "\n",
    "class WineDataset(Dataset):\n",
    "    def __init__(self):\n",
    "        # data loading\n",
    "        xy = np.loadtxt('./data/wine.csv', delimiter=',', dtype=np.float32, skiprows=1)\n",
    "        self.x = torch.from_numpy(xy[:, 1:])\n",
    "        self.y = torch.from_numpy(xy[:, [0]]) # n_samples, 1\n",
    "        self.n_samples = xy.shape[0]\n",
    "        \n",
    "    def __getitem__(self, index):\n",
    "        # dataset[0]\n",
    "        return self.x[index], self.y[index]\n",
    "        \n",
    "    def __len__(self):\n",
    "        # len(dataset)\n",
    "        return self.n_samples\n",
    "    \n",
    "dataset = WineDataset()\n",
    "first_data = dataset[0]\n",
    "features, labels = first_data\n",
    "print(features, labels)\n",
    "\n",
    "dataloader = DataLoader(dataset=dataset, batch_size=4, shuffle=True, num_workers=2)\n",
    "\n",
    "datatiter = iter(dataloader)\n",
    "data = datatiter.next()\n",
    "print(features, labels)\n",
    "\n",
    "# training loop\n",
    "num_epochs = 2\n",
    "total_samples = len(dataset)\n",
    "n_iterations = math.ceil(total_samples / 4)\n",
    "print(total_samples, n_iterations) # 178 45\n",
    "\n",
    "for epoch in range(num_epochs):\n",
    "    for i, (inputs, labels) in enumerate(dataloader):\n",
    "        # forward backward, update\n",
    "        if (i + 1) % 5 == 0:\n",
    "            print(f'epoch = {epoch + 1}/{num_epochs}, step = {i + 1}/{n_iterations}, inputs = {inputs.shape}')\n"
   ]
  },
  {
   "cell_type": "markdown",
   "metadata": {},
   "source": [
    "## Pytorch Tutorial 10 - Dataset Transforms\n",
    "\n",
    "- Transform: convert images or numpy arrays to tensors;\n",
    "- Transforms can be applied to PIL images, tensors, ndarrays, or custom data during creation of the DataSet;\n",
    "- **On images**: CenterCrop, Grayscale, Pad, RandomAffine, RandomCrop, RandomHorizontalFlip, RandomRotation, Resize, Scale;\n",
    "- **On tensors**: LinearTransformation, Normalize, RandomErasing;\n",
    "- **Conversion**:\n",
    "    - ToPILImage: from tensor or ndarray;\n",
    "    - ToTensor: from numpy.ndarray or PILImage;\n",
    "- **Generic**: use lambda;\n",
    "- **Custom**: write own class, compose multiple transforms;"
   ]
  },
  {
   "cell_type": "code",
   "execution_count": null,
   "metadata": {},
   "outputs": [],
   "source": [
    "'''\n",
    "Compose multiple transforms\n",
    "---------------------------\n",
    "composed = transforms.Compose([Rescale(256),\n",
    "                               RandomCrop(224)])\n",
    "                               \n",
    "torchvision.transforms.ReScale(256)\n",
    "torchvision.transforms.ToTensor()\n",
    "'''"
   ]
  }
 ],
 "metadata": {
  "kernelspec": {
   "display_name": "Python 3.8.5 64-bit ('base': conda)",
   "language": "python",
   "name": "python38564bitbasecondab918388200e74c19bbf7a29e3542111d"
  },
  "language_info": {
   "codemirror_mode": {
    "name": "ipython",
    "version": 3
   },
   "file_extension": ".py",
   "mimetype": "text/x-python",
   "name": "python",
   "nbconvert_exporter": "python",
   "pygments_lexer": "ipython3",
   "version": "3.8.5"
  }
 },
 "nbformat": 4,
 "nbformat_minor": 4
}
