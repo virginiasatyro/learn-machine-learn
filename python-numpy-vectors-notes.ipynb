{
 "cells": [
  {
   "cell_type": "code",
   "execution_count": 18,
   "metadata": {},
   "outputs": [
    {
     "name": "stdout",
     "output_type": "stream",
     "text": [
      "[-0.17507627  1.05748401 -1.48041553 -0.28747192 -0.15778371]\n"
     ]
    }
   ],
   "source": [
    "import numpy as np\n",
    "\n",
    "a = np.random.randn(5)\n",
    "print(a)"
   ]
  },
  {
   "cell_type": "code",
   "execution_count": 19,
   "metadata": {},
   "outputs": [
    {
     "name": "stdout",
     "output_type": "stream",
     "text": [
      "(5,)\n"
     ]
    }
   ],
   "source": [
    "print(a.shape)"
   ]
  },
  {
   "cell_type": "markdown",
   "metadata": {},
   "source": [
    "(5, ) is a rank 1 array. It is a data structure, but it doens't behave consistently as either a row nor a column vector. Avoid using this array."
   ]
  },
  {
   "cell_type": "code",
   "execution_count": 12,
   "metadata": {},
   "outputs": [
    {
     "name": "stdout",
     "output_type": "stream",
     "text": [
      "[[-0.41928744  0.8563145  -0.05120945 -1.2113937  -0.47318429]]\n"
     ]
    }
   ],
   "source": [
    "print(a.T) # transposed"
   ]
  },
  {
   "cell_type": "code",
   "execution_count": 13,
   "metadata": {},
   "outputs": [
    {
     "name": "stdout",
     "output_type": "stream",
     "text": [
      "[[ 0.17580195 -0.35904191  0.02147148  0.50792216  0.19840023]\n",
      " [-0.35904191  0.73327452 -0.0438514  -1.03733399 -0.40519457]\n",
      " [ 0.02147148 -0.0438514   0.00262241  0.06203481  0.02423151]\n",
      " [ 0.50792216 -1.03733399  0.06203481  1.46747469  0.57321247]\n",
      " [ 0.19840023 -0.40519457  0.02423151  0.57321247  0.22390337]]\n"
     ]
    }
   ],
   "source": [
    "print(np.dot(a, a.T))"
   ]
  },
  {
   "cell_type": "markdown",
   "metadata": {},
   "source": [
    "We should get a matrix, not a number! We should avoid notations like (5,) and explicitly determine (5, 1)."
   ]
  },
  {
   "cell_type": "code",
   "execution_count": 16,
   "metadata": {},
   "outputs": [
    {
     "name": "stdout",
     "output_type": "stream",
     "text": [
      "[[ 1.63760686]\n",
      " [-0.65389043]\n",
      " [ 0.25735439]\n",
      " [-0.41745906]\n",
      " [-0.77787665]]\n"
     ]
    }
   ],
   "source": [
    "b = np.random.randn(5, 1) # make it explicit\n",
    "print(b)"
   ]
  },
  {
   "cell_type": "code",
   "execution_count": 17,
   "metadata": {},
   "outputs": [
    {
     "name": "stdout",
     "output_type": "stream",
     "text": [
      "[[ 1.63760686 -0.65389043  0.25735439 -0.41745906 -0.77787665]]\n"
     ]
    }
   ],
   "source": [
    "print(b.T)"
   ]
  },
  {
   "cell_type": "markdown",
   "metadata": {},
   "source": [
    "Difference: above we got 2 [[]]!"
   ]
  },
  {
   "cell_type": "code",
   "execution_count": 8,
   "metadata": {},
   "outputs": [
    {
     "name": "stdout",
     "output_type": "stream",
     "text": [
      "[[ 0.17580195 -0.35904191  0.02147148  0.50792216  0.19840023]\n",
      " [-0.35904191  0.73327452 -0.0438514  -1.03733399 -0.40519457]\n",
      " [ 0.02147148 -0.0438514   0.00262241  0.06203481  0.02423151]\n",
      " [ 0.50792216 -1.03733399  0.06203481  1.46747469  0.57321247]\n",
      " [ 0.19840023 -0.40519457  0.02423151  0.57321247  0.22390337]]\n"
     ]
    }
   ],
   "source": [
    "print(np.dot(b, b.T))"
   ]
  },
  {
   "cell_type": "code",
   "execution_count": 26,
   "metadata": {},
   "outputs": [],
   "source": [
    "assert(b.shape == (5, 1))"
   ]
  },
  {
   "cell_type": "markdown",
   "metadata": {},
   "source": [
    "We can throw assertion statement like this to make sure this is a (5, 1) vector.\n",
    "These assertions are really inexpensive to execute, and are also good for documentation."
   ]
  }
 ],
 "metadata": {
  "kernelspec": {
   "display_name": "Python 3",
   "language": "python",
   "name": "python3"
  },
  "language_info": {
   "codemirror_mode": {
    "name": "ipython",
    "version": 3
   },
   "file_extension": ".py",
   "mimetype": "text/x-python",
   "name": "python",
   "nbconvert_exporter": "python",
   "pygments_lexer": "ipython3",
   "version": "3.8.5"
  }
 },
 "nbformat": 4,
 "nbformat_minor": 4
}
